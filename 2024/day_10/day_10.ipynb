{
 "cells": [
  {
   "metadata": {},
   "cell_type": "markdown",
   "source": "## First star",
   "id": "21d4e0a042156b5a"
  },
  {
   "metadata": {
    "ExecuteTime": {
     "end_time": "2024-12-10T19:38:07.836056Z",
     "start_time": "2024-12-10T19:38:07.829955Z"
    }
   },
   "cell_type": "code",
   "source": [
    "import sys\n",
    "import copy"
   ],
   "id": "50f60b5b7b0e5cc3",
   "outputs": [],
   "execution_count": 50
  },
  {
   "metadata": {
    "ExecuteTime": {
     "end_time": "2024-12-10T19:38:08.259592Z",
     "start_time": "2024-12-10T19:38:08.251906Z"
    }
   },
   "cell_type": "code",
   "source": "sys.path.append(\"../\")",
   "id": "b794148613c98cbc",
   "outputs": [],
   "execution_count": 51
  },
  {
   "metadata": {
    "ExecuteTime": {
     "end_time": "2024-12-10T19:38:08.490804Z",
     "start_time": "2024-12-10T19:38:08.485874Z"
    }
   },
   "cell_type": "code",
   "source": "file_path = 'input_ag.txt'",
   "id": "96128c7c67905a34",
   "outputs": [],
   "execution_count": 52
  },
  {
   "metadata": {
    "ExecuteTime": {
     "end_time": "2024-12-10T19:38:09.804366Z",
     "start_time": "2024-12-10T19:38:09.795154Z"
    }
   },
   "cell_type": "code",
   "source": [
    "puzzle_raw_map = []\n",
    "with open(file_path, 'r') as file:\n",
    "    for line in file:\n",
    "        puzzle_raw_map.append(line.strip('\\n'))"
   ],
   "id": "eb7ade5c776ef3fb",
   "outputs": [],
   "execution_count": 53
  },
  {
   "metadata": {
    "ExecuteTime": {
     "end_time": "2024-12-10T19:38:10.603688Z",
     "start_time": "2024-12-10T19:38:10.597970Z"
    }
   },
   "cell_type": "code",
   "source": [
    "example_raw_map =[\n",
    "    '89010123',\n",
    "    '78121874',\n",
    "    '87430965',\n",
    "    '96549874',\n",
    "    '45678903',\n",
    "    '32019012',\n",
    "    '01329801',\n",
    "    '10456732'\n",
    "    ]\n",
    "example_map = copy.deepcopy(example_raw_map)\n",
    "example_map = [list(row) for row in example_map]"
   ],
   "id": "a7212cbe1f11c3e0",
   "outputs": [],
   "execution_count": 54
  },
  {
   "metadata": {
    "ExecuteTime": {
     "end_time": "2024-12-10T19:38:12.164312Z",
     "start_time": "2024-12-10T19:38:12.157616Z"
    }
   },
   "cell_type": "code",
   "source": [
    "puzzle_map = copy.deepcopy(puzzle_raw_map)\n",
    "puzzle_map = [list(row) for row in puzzle_map]"
   ],
   "id": "87408990a3571e5c",
   "outputs": [],
   "execution_count": 55
  },
  {
   "metadata": {
    "ExecuteTime": {
     "end_time": "2024-12-10T19:38:22.626657Z",
     "start_time": "2024-12-10T19:38:22.619987Z"
    }
   },
   "cell_type": "code",
   "source": [
    "def find_starting_points(puzzle_map):\n",
    "    starting_points = []\n",
    "    for i in range(len(puzzle_map)):\n",
    "        for j in range(len(puzzle_map[0])):\n",
    "            if puzzle_map[i][j] == '0':\n",
    "                starting_points.append((i, j))\n",
    "    return starting_points"
   ],
   "id": "58fcd70fbecff1ce",
   "outputs": [],
   "execution_count": 57
  },
  {
   "metadata": {
    "ExecuteTime": {
     "end_time": "2024-12-10T19:38:22.926758Z",
     "start_time": "2024-12-10T19:38:22.917232Z"
    }
   },
   "cell_type": "code",
   "source": [
    "def find_valid_moves(starting_point, puzzle_map):\n",
    "    current_row, current_col = starting_point\n",
    "    valid_moves = []\n",
    "    current_value = int(puzzle_map[current_row][current_col])\n",
    "\n",
    "    directions = [(1, 0), (0, 1), (-1, 0), (0, -1)]\n",
    "\n",
    "    for direction in directions:\n",
    "        new_row = current_row + direction[0]\n",
    "        new_col = current_col + direction[1]\n",
    "\n",
    "        if 0 <= new_row < len(puzzle_map) and 0 <= new_col < len(puzzle_map[0]):\n",
    "            new_value = int(puzzle_map[new_row][new_col])\n",
    "\n",
    "            if new_value - current_value == 1:\n",
    "                valid_moves.append((new_row, new_col))\n",
    "\n",
    "    return valid_moves"
   ],
   "id": "d69b42e07911954d",
   "outputs": [],
   "execution_count": 58
  },
  {
   "metadata": {
    "ExecuteTime": {
     "end_time": "2024-12-10T19:38:23.322672Z",
     "start_time": "2024-12-10T19:38:23.317419Z"
    }
   },
   "cell_type": "code",
   "source": [
    "def find_path(starting_point, puzzle_map):\n",
    "    current_row, current_col = starting_point\n",
    "\n",
    "    if int(puzzle_map[current_row][current_col]) == 9:\n",
    "        return {(current_row, current_col)}\n",
    "\n",
    "    valid_moves = find_valid_moves(starting_point, puzzle_map)\n",
    "\n",
    "    if not valid_moves:\n",
    "        return set()\n",
    "\n",
    "    reachable_endpoints = set()\n",
    "    for next_row, next_col in valid_moves:\n",
    "        endpoints_from_move = find_path((next_row, next_col), puzzle_map)\n",
    "        reachable_endpoints.update(endpoints_from_move)\n",
    "\n",
    "    return reachable_endpoints"
   ],
   "id": "4fe7e1663eebd2b3",
   "outputs": [],
   "execution_count": 59
  },
  {
   "metadata": {
    "ExecuteTime": {
     "end_time": "2024-12-10T19:38:23.692574Z",
     "start_time": "2024-12-10T19:38:23.687783Z"
    }
   },
   "cell_type": "code",
   "source": "starting_points = find_starting_points(puzzle_map)",
   "id": "9e753ea3a76f55cd",
   "outputs": [],
   "execution_count": 60
  },
  {
   "metadata": {
    "ExecuteTime": {
     "end_time": "2024-12-10T19:38:33.260584Z",
     "start_time": "2024-12-10T19:38:33.240062Z"
    }
   },
   "cell_type": "code",
   "source": [
    "all_reachable= []\n",
    "for starting_point in starting_points:\n",
    "    all_reachable.extend(list(find_path(starting_point, puzzle_map)), )"
   ],
   "id": "20490dde84ff054",
   "outputs": [],
   "execution_count": 62
  },
  {
   "metadata": {
    "ExecuteTime": {
     "end_time": "2024-12-10T19:38:33.865454Z",
     "start_time": "2024-12-10T19:38:33.860227Z"
    }
   },
   "cell_type": "code",
   "source": "len(all_reachable)",
   "id": "8b64b7854accae9b",
   "outputs": [
    {
     "data": {
      "text/plain": [
       "694"
      ]
     },
     "execution_count": 63,
     "metadata": {},
     "output_type": "execute_result"
    }
   ],
   "execution_count": 63
  },
  {
   "metadata": {},
   "cell_type": "markdown",
   "source": "## Second star",
   "id": "126a7b7bc5a81aa0"
  },
  {
   "metadata": {
    "ExecuteTime": {
     "end_time": "2024-12-10T19:42:13.928567Z",
     "start_time": "2024-12-10T19:42:13.919239Z"
    }
   },
   "cell_type": "code",
   "source": "starting_points = find_starting_points(puzzle_map)",
   "id": "76f228366305c0e5",
   "outputs": [],
   "execution_count": 70
  },
  {
   "metadata": {
    "ExecuteTime": {
     "end_time": "2024-12-10T19:42:14.096983Z",
     "start_time": "2024-12-10T19:42:14.091441Z"
    }
   },
   "cell_type": "code",
   "source": [
    "def find_path(starting_point, puzzle_map):\n",
    "    current_row, current_col = starting_point\n",
    "\n",
    "    if int(puzzle_map[current_row][current_col]) == 9:\n",
    "        return 1 \n",
    "\n",
    "    valid_moves = find_valid_moves(starting_point, puzzle_map)\n",
    "    if not valid_moves:\n",
    "        return 0\n",
    "\n",
    "    valid_path_number = 0\n",
    "    for move in valid_moves:\n",
    "        next_row, next_col = move\n",
    "        valid_path_number += find_path((next_row, next_col), puzzle_map)\n",
    "\n",
    "    return valid_path_number"
   ],
   "id": "dedfd3190176de5e",
   "outputs": [],
   "execution_count": 71
  },
  {
   "metadata": {
    "ExecuteTime": {
     "end_time": "2024-12-10T19:42:14.344809Z",
     "start_time": "2024-12-10T19:42:14.332180Z"
    }
   },
   "cell_type": "code",
   "source": [
    "all_paths_number = 0\n",
    "for starting_point in starting_points:\n",
    "    all_paths_number += find_path(starting_point, puzzle_map)"
   ],
   "id": "e4f08843771d6df6",
   "outputs": [],
   "execution_count": 72
  },
  {
   "metadata": {
    "ExecuteTime": {
     "end_time": "2024-12-10T19:42:14.786742Z",
     "start_time": "2024-12-10T19:42:14.779115Z"
    }
   },
   "cell_type": "code",
   "source": "all_paths_number",
   "id": "2ef1a0c3582df1bb",
   "outputs": [
    {
     "data": {
      "text/plain": [
       "1497"
      ]
     },
     "execution_count": 73,
     "metadata": {},
     "output_type": "execute_result"
    }
   ],
   "execution_count": 73
  }
 ],
 "metadata": {
  "kernelspec": {
   "display_name": "Python 3",
   "language": "python",
   "name": "python3"
  },
  "language_info": {
   "codemirror_mode": {
    "name": "ipython",
    "version": 2
   },
   "file_extension": ".py",
   "mimetype": "text/x-python",
   "name": "python",
   "nbconvert_exporter": "python",
   "pygments_lexer": "ipython2",
   "version": "2.7.6"
  }
 },
 "nbformat": 4,
 "nbformat_minor": 5
}
