{
 "cells": [
  {
   "metadata": {},
   "cell_type": "markdown",
   "source": "## First star",
   "id": "21d4e0a042156b5a"
  },
  {
   "metadata": {
    "ExecuteTime": {
     "end_time": "2024-12-14T08:29:28.844701Z",
     "start_time": "2024-12-14T08:29:28.838880Z"
    }
   },
   "cell_type": "code",
   "source": [
    "import sys\n",
    "import copy\n",
    "import re"
   ],
   "id": "50f60b5b7b0e5cc3",
   "outputs": [],
   "execution_count": 1
  },
  {
   "metadata": {
    "ExecuteTime": {
     "end_time": "2024-12-14T08:29:28.852657Z",
     "start_time": "2024-12-14T08:29:28.845952Z"
    }
   },
   "cell_type": "code",
   "source": "sys.path.append(\"../\")",
   "id": "b794148613c98cbc",
   "outputs": [],
   "execution_count": 2
  },
  {
   "metadata": {
    "ExecuteTime": {
     "end_time": "2024-12-14T08:29:28.862714Z",
     "start_time": "2024-12-14T08:29:28.860168Z"
    }
   },
   "cell_type": "code",
   "source": "file_path = 'input_ag.txt'",
   "id": "96128c7c67905a34",
   "outputs": [],
   "execution_count": 3
  },
  {
   "metadata": {
    "ExecuteTime": {
     "end_time": "2024-12-14T08:29:28.870940Z",
     "start_time": "2024-12-14T08:29:28.864078Z"
    }
   },
   "cell_type": "code",
   "source": [
    "starting_series = []\n",
    "with open(file_path, 'r') as file:\n",
    "    for line in file:\n",
    "        starting_series.append(line.strip('\\n'))"
   ],
   "id": "eb7ade5c776ef3fb",
   "outputs": [],
   "execution_count": 4
  },
  {
   "metadata": {
    "ExecuteTime": {
     "end_time": "2024-12-14T08:29:28.874944Z",
     "start_time": "2024-12-14T08:29:28.872416Z"
    }
   },
   "cell_type": "code",
   "source": "starting_series = starting_series[0]",
   "id": "8ae2b51b92f8d86b",
   "outputs": [],
   "execution_count": 5
  },
  {
   "metadata": {
    "ExecuteTime": {
     "end_time": "2024-12-14T08:29:28.879574Z",
     "start_time": "2024-12-14T08:29:28.875995Z"
    }
   },
   "cell_type": "code",
   "source": "raw_expanded_series = copy.deepcopy(starting_series)",
   "id": "a7212cbe1f11c3e0",
   "outputs": [],
   "execution_count": 6
  },
  {
   "metadata": {
    "ExecuteTime": {
     "end_time": "2024-12-14T08:18:14.500477Z",
     "start_time": "2024-12-14T08:18:14.496819Z"
    }
   },
   "cell_type": "code",
   "source": "example_series = '125 17'",
   "id": "87408990a3571e5c",
   "outputs": [],
   "execution_count": 7
  },
  {
   "metadata": {
    "ExecuteTime": {
     "end_time": "2024-12-14T08:18:14.514675Z",
     "start_time": "2024-12-14T08:18:14.512100Z"
    }
   },
   "cell_type": "code",
   "source": [
    "def find_numbers(series):\n",
    "    numbers = re.findall(r'\\d+', series)\n",
    "    return numbers"
   ],
   "id": "58fcd70fbecff1ce",
   "outputs": [],
   "execution_count": 8
  },
  {
   "metadata": {
    "ExecuteTime": {
     "end_time": "2024-12-14T08:18:14.521209Z",
     "start_time": "2024-12-14T08:18:14.518018Z"
    }
   },
   "cell_type": "code",
   "source": [
    "def expand_series(series):\n",
    "    expanded_series = []\n",
    "    numbers = find_numbers(series)\n",
    "    \n",
    "    for number in numbers:\n",
    "        if number == str(0):\n",
    "            expanded_series.append('1')\n",
    "            expanded_series.append(' ')\n",
    "        elif len(str(number)) % 2 == 0:\n",
    "            left_part = str(number)[:len(str(number)) // 2]\n",
    "            right_part = str(number)[len(str(number)) // 2:]\n",
    "            expanded_series.append(left_part)\n",
    "            expanded_series.append(' ')\n",
    "            right_part = right_part.lstrip('0')\n",
    "            if len(right_part)==0:\n",
    "                expanded_series.append('0')\n",
    "                expanded_series.append(' ')\n",
    "            else:\n",
    "                expanded_series.append(right_part)\n",
    "                expanded_series.append(' ')\n",
    "        else:\n",
    "            expanded_series.append(str(int(number) * 2024))\n",
    "            expanded_series.append(' ')\n",
    "    \n",
    "    return ''.join(expanded_series)"
   ],
   "id": "a7b6e82e17e3bfe3",
   "outputs": [],
   "execution_count": 9
  },
  {
   "metadata": {
    "ExecuteTime": {
     "end_time": "2024-12-14T08:18:18.071125Z",
     "start_time": "2024-12-14T08:18:14.522596Z"
    }
   },
   "cell_type": "code",
   "source": [
    "expanded_series = raw_expanded_series\n",
    "for i in range(35): \n",
    "    expanded_series = expand_series(expanded_series)"
   ],
   "id": "11414889ec3d7a41",
   "outputs": [
    {
     "ename": "KeyboardInterrupt",
     "evalue": "",
     "output_type": "error",
     "traceback": [
      "\u001B[0;31m---------------------------------------------------------------------------\u001B[0m",
      "\u001B[0;31mKeyboardInterrupt\u001B[0m                         Traceback (most recent call last)",
      "Cell \u001B[0;32mIn[10], line 3\u001B[0m\n\u001B[1;32m      1\u001B[0m expanded_series \u001B[38;5;241m=\u001B[39m raw_expanded_series\n\u001B[1;32m      2\u001B[0m \u001B[38;5;28;01mfor\u001B[39;00m i \u001B[38;5;129;01min\u001B[39;00m \u001B[38;5;28mrange\u001B[39m(\u001B[38;5;241m35\u001B[39m): \n\u001B[0;32m----> 3\u001B[0m     expanded_series \u001B[38;5;241m=\u001B[39m \u001B[43mexpand_series\u001B[49m\u001B[43m(\u001B[49m\u001B[43mexpanded_series\u001B[49m\u001B[43m)\u001B[49m\n",
      "Cell \u001B[0;32mIn[9], line 6\u001B[0m, in \u001B[0;36mexpand_series\u001B[0;34m(series)\u001B[0m\n\u001B[1;32m      3\u001B[0m numbers \u001B[38;5;241m=\u001B[39m find_numbers(series)\n\u001B[1;32m      5\u001B[0m \u001B[38;5;28;01mfor\u001B[39;00m number \u001B[38;5;129;01min\u001B[39;00m numbers:\n\u001B[0;32m----> 6\u001B[0m     \u001B[38;5;28;01mif\u001B[39;00m number \u001B[38;5;241m==\u001B[39m \u001B[38;5;28mstr\u001B[39m(\u001B[38;5;241m0\u001B[39m):\n\u001B[1;32m      7\u001B[0m         expanded_series\u001B[38;5;241m.\u001B[39mappend(\u001B[38;5;124m'\u001B[39m\u001B[38;5;124m1\u001B[39m\u001B[38;5;124m'\u001B[39m)\n\u001B[1;32m      8\u001B[0m         expanded_series\u001B[38;5;241m.\u001B[39mappend(\u001B[38;5;124m'\u001B[39m\u001B[38;5;124m \u001B[39m\u001B[38;5;124m'\u001B[39m)\n",
      "\u001B[0;31mKeyboardInterrupt\u001B[0m: "
     ]
    }
   ],
   "execution_count": 10
  },
  {
   "metadata": {},
   "cell_type": "code",
   "source": "len(find_numbers(expanded_series))",
   "id": "97dc119c0ad9383c",
   "outputs": [],
   "execution_count": null
  },
  {
   "metadata": {},
   "cell_type": "markdown",
   "source": "## Second star",
   "id": "126a7b7bc5a81aa0"
  },
  {
   "metadata": {
    "ExecuteTime": {
     "end_time": "2024-12-14T08:23:39.943552Z",
     "start_time": "2024-12-14T08:23:39.938538Z"
    }
   },
   "cell_type": "code",
   "source": [
    "def expand_series_list(numbers):\n",
    "    expanded_list = []\n",
    "    for number in numbers:\n",
    "        if number == '0':\n",
    "            # Replace '0' with '1'\n",
    "            expanded_list.append('1')\n",
    "        else:\n",
    "            length = len(number)\n",
    "            if length % 2 == 0:\n",
    "                # Even-length number\n",
    "                mid = length // 2\n",
    "                left_part = number[:mid]\n",
    "                right_part = number[mid:].lstrip('0')  # strip leading zeros\n",
    "                if right_part == '':\n",
    "                    right_part = '0'\n",
    "                expanded_list.append(left_part)\n",
    "                expanded_list.append(right_part)\n",
    "            else:\n",
    "                # Odd-length number\n",
    "                val = int(number)\n",
    "                expanded_list.append(str(val * 2024))\n",
    "    return expanded_list"
   ],
   "id": "2d30b4c2404d40d6",
   "outputs": [],
   "execution_count": 12
  },
  {
   "metadata": {
    "jupyter": {
     "is_executing": true
    },
    "ExecuteTime": {
     "start_time": "2024-12-14T08:24:34.676802Z"
    }
   },
   "cell_type": "code",
   "source": [
    "# Initial series\n",
    "series = '70949 6183 4 3825336 613971 0 15 182'\n",
    "\n",
    "# Convert once to a list of strings\n",
    "numbers = series.split()\n",
    "\n",
    "# Apply the expansion 75 times\n",
    "for i in range(50):\n",
    "    numbers = expand_series_list(numbers)\n",
    "    print(i)\n",
    "\n",
    "len(numbers)"
   ],
   "id": "8fbf320095e96b1b",
   "outputs": [
    {
     "name": "stdout",
     "output_type": "stream",
     "text": [
      "0\n",
      "1\n",
      "2\n",
      "3\n",
      "4\n",
      "5\n",
      "6\n",
      "7\n",
      "8\n",
      "9\n",
      "10\n",
      "11\n",
      "12\n",
      "13\n",
      "14\n",
      "15\n",
      "16\n",
      "17\n",
      "18\n",
      "19\n",
      "20\n",
      "21\n",
      "22\n",
      "23\n",
      "24\n",
      "25\n",
      "26\n",
      "27\n",
      "28\n",
      "29\n",
      "30\n",
      "31\n",
      "32\n",
      "33\n",
      "34\n",
      "35\n",
      "36\n",
      "37\n",
      "38\n",
      "39\n",
      "40\n",
      "41\n"
     ]
    }
   ],
   "execution_count": null
  },
  {
   "metadata": {
    "jupyter": {
     "is_executing": true
    },
    "ExecuteTime": {
     "start_time": "2024-12-14T08:31:03.730348Z"
    }
   },
   "cell_type": "code",
   "source": [
    "def expand_number(num_str, memo):\n",
    "    # If we have already computed the expansion for this number, return it\n",
    "    if num_str in memo:\n",
    "        return memo[num_str]\n",
    "    \n",
    "    # Compute the expansion for this number\n",
    "    if num_str == '0':\n",
    "        result = ['1']\n",
    "    else:\n",
    "        length = len(num_str)\n",
    "        if length % 2 == 0:\n",
    "            # Even-length number\n",
    "            mid = length // 2\n",
    "            left_part = num_str[:mid]\n",
    "            right_part = num_str[mid:].lstrip('0') or '0'\n",
    "            result = [left_part, right_part]\n",
    "        else:\n",
    "            # Odd-length number\n",
    "            val = int(num_str)\n",
    "            result = [str(val * 2024)]\n",
    "    \n",
    "    # Store the computed result in the memo dictionary\n",
    "    memo[num_str] = result\n",
    "    return result\n",
    "\n",
    "\n",
    "def expand_series_list(numbers, memo):\n",
    "    expanded = []\n",
    "    # Expand each number using memoized results\n",
    "    for num in numbers:\n",
    "        expanded.extend(expand_number(num, memo))\n",
    "    return expanded\n",
    "\n",
    "\n",
    "# Initial series\n",
    "series = '70949 6183 4 3825336 613971 0 15 182'\n",
    "\n",
    "# Convert once to a list of strings\n",
    "numbers = series.split()\n",
    "\n",
    "# Prepare memo dictionary\n",
    "memo = {}\n",
    "\n",
    "# Apply the expansion 75 times\n",
    "for i in range(75):\n",
    "    numbers = expand_series_list(numbers, memo)\n",
    "    print(i)\n",
    "\n",
    "len(numbers)"
   ],
   "id": "fe653f70b9550245",
   "outputs": [
    {
     "name": "stdout",
     "output_type": "stream",
     "text": [
      "0\n",
      "1\n",
      "2\n",
      "3\n",
      "4\n",
      "5\n",
      "6\n",
      "7\n",
      "8\n",
      "9\n",
      "10\n",
      "11\n",
      "12\n",
      "13\n",
      "14\n",
      "15\n",
      "16\n",
      "17\n",
      "18\n",
      "19\n",
      "20\n",
      "21\n",
      "22\n",
      "23\n",
      "24\n",
      "25\n",
      "26\n",
      "27\n",
      "28\n",
      "29\n",
      "30\n",
      "31\n",
      "32\n",
      "33\n"
     ]
    }
   ],
   "execution_count": null
  },
  {
   "metadata": {},
   "cell_type": "code",
   "outputs": [],
   "execution_count": null,
   "source": "",
   "id": "3ab1d46683ce88ff"
  }
 ],
 "metadata": {
  "kernelspec": {
   "display_name": "Python 3",
   "language": "python",
   "name": "python3"
  },
  "language_info": {
   "codemirror_mode": {
    "name": "ipython",
    "version": 2
   },
   "file_extension": ".py",
   "mimetype": "text/x-python",
   "name": "python",
   "nbconvert_exporter": "python",
   "pygments_lexer": "ipython2",
   "version": "2.7.6"
  }
 },
 "nbformat": 4,
 "nbformat_minor": 5
}
