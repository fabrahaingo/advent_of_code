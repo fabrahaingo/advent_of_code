{
 "cells": [
  {
   "metadata": {},
   "cell_type": "markdown",
   "source": "## Fiest star",
   "id": "5eb38f4d3f285240"
  },
  {
   "metadata": {
    "ExecuteTime": {
     "end_time": "2024-12-07T16:32:29.380767Z",
     "start_time": "2024-12-07T16:32:29.377096Z"
    }
   },
   "cell_type": "code",
   "source": [
    "import pandas as pd\n",
    "import sys"
   ],
   "id": "initial_id",
   "outputs": [],
   "execution_count": 10
  },
  {
   "metadata": {
    "ExecuteTime": {
     "end_time": "2024-12-07T16:32:29.755102Z",
     "start_time": "2024-12-07T16:32:29.752213Z"
    }
   },
   "cell_type": "code",
   "source": "sys.path.append(\"../\")",
   "id": "12a20547eaae47ce",
   "outputs": [],
   "execution_count": 11
  },
  {
   "metadata": {
    "ExecuteTime": {
     "end_time": "2024-12-07T16:32:30.296805Z",
     "start_time": "2024-12-07T16:32:30.290555Z"
    }
   },
   "cell_type": "code",
   "source": [
    "file_path = 'input.txt'\n",
    "\n",
    "df = pd.read_csv(file_path, delim_whitespace=True, header=None, names=['number1', 'number2'])\n",
    "\n",
    "number1_list = df['number1'].tolist()\n",
    "number2_list = df['number2'].tolist()"
   ],
   "id": "10f243516793b51d",
   "outputs": [],
   "execution_count": 12
  },
  {
   "metadata": {
    "ExecuteTime": {
     "end_time": "2024-12-07T16:32:31.017240Z",
     "start_time": "2024-12-07T16:32:30.969967Z"
    }
   },
   "cell_type": "code",
   "source": [
    "total_dist = 0\n",
    "while len(number1_list) > 0 and len(number2_list) > 0:\n",
    "    min_index1, min_value1 = min(enumerate(number1_list), key=lambda x: x[1])\n",
    "    min_index2, min_value2 = min(enumerate(number2_list), key=lambda x: x[1])\n",
    "    \n",
    "    number1_list.pop(min_index1)\n",
    "    number2_list.pop(min_index2)\n",
    "    total_dist += abs(min_value1-min_value2)"
   ],
   "id": "eb1682a251f8be30",
   "outputs": [],
   "execution_count": 13
  },
  {
   "metadata": {
    "ExecuteTime": {
     "end_time": "2024-12-07T16:32:31.354125Z",
     "start_time": "2024-12-07T16:32:31.349573Z"
    }
   },
   "cell_type": "code",
   "source": "total_dist",
   "id": "9732f5ae7ee9f063",
   "outputs": [
    {
     "data": {
      "text/plain": [
       "1341714"
      ]
     },
     "execution_count": 14,
     "metadata": {},
     "output_type": "execute_result"
    }
   ],
   "execution_count": 14
  },
  {
   "metadata": {},
   "cell_type": "markdown",
   "source": "## Second star",
   "id": "da1ae9d01e527a71"
  },
  {
   "metadata": {
    "ExecuteTime": {
     "end_time": "2024-12-07T16:34:47.348507Z",
     "start_time": "2024-12-07T16:34:47.344956Z"
    }
   },
   "cell_type": "code",
   "source": [
    "number1_list = df['number1'].tolist()\n",
    "number2_list = df['number2'].tolist()"
   ],
   "id": "f88c0beb366fabbd",
   "outputs": [],
   "execution_count": 31
  },
  {
   "metadata": {
    "ExecuteTime": {
     "end_time": "2024-12-07T16:34:47.531696Z",
     "start_time": "2024-12-07T16:34:47.523484Z"
    }
   },
   "cell_type": "code",
   "source": [
    "similarity_score = 0\n",
    "for number in number1_list:\n",
    "    number_similarity = number * number2_list.count(number)\n",
    "    similarity_score = similarity_score + number_similarity"
   ],
   "id": "bda925adeabdc1b7",
   "outputs": [],
   "execution_count": 32
  },
  {
   "metadata": {
    "ExecuteTime": {
     "end_time": "2024-12-07T16:34:48.010802Z",
     "start_time": "2024-12-07T16:34:48.005872Z"
    }
   },
   "cell_type": "code",
   "source": "similarity_score",
   "id": "2e4935294bf53e45",
   "outputs": [
    {
     "data": {
      "text/plain": [
       "27384707"
      ]
     },
     "execution_count": 33,
     "metadata": {},
     "output_type": "execute_result"
    }
   ],
   "execution_count": 33
  }
 ],
 "metadata": {
  "kernelspec": {
   "display_name": "Python 3",
   "language": "python",
   "name": "python3"
  },
  "language_info": {
   "codemirror_mode": {
    "name": "ipython",
    "version": 2
   },
   "file_extension": ".py",
   "mimetype": "text/x-python",
   "name": "python",
   "nbconvert_exporter": "python",
   "pygments_lexer": "ipython2",
   "version": "2.7.6"
  }
 },
 "nbformat": 4,
 "nbformat_minor": 5
}
