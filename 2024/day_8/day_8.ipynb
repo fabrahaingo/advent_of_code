{
 "cells": [
  {
   "metadata": {},
   "cell_type": "markdown",
   "source": "## First star",
   "id": "71f669e362ee00d0"
  },
  {
   "metadata": {
    "ExecuteTime": {
     "end_time": "2024-12-08T14:24:09.725344Z",
     "start_time": "2024-12-08T14:24:09.722813Z"
    }
   },
   "cell_type": "code",
   "source": [
    "import sys\n",
    "import copy\n",
    "from itertools import combinations\n",
    "from math import sqrt"
   ],
   "id": "initial_id",
   "outputs": [],
   "execution_count": 397
  },
  {
   "metadata": {
    "ExecuteTime": {
     "end_time": "2024-12-08T14:24:09.892635Z",
     "start_time": "2024-12-08T14:24:09.887871Z"
    }
   },
   "cell_type": "code",
   "source": "sys.path.append(\"../\")",
   "id": "4fea87bb3bd97a63",
   "outputs": [],
   "execution_count": 398
  },
  {
   "metadata": {
    "ExecuteTime": {
     "end_time": "2024-12-08T14:24:10.052049Z",
     "start_time": "2024-12-08T14:24:10.048082Z"
    }
   },
   "cell_type": "code",
   "source": "file_path = 'input_ag.txt'",
   "id": "d1edb1fac30300ca",
   "outputs": [],
   "execution_count": 399
  },
  {
   "metadata": {
    "ExecuteTime": {
     "end_time": "2024-12-08T14:24:10.171291Z",
     "start_time": "2024-12-08T14:24:10.166734Z"
    }
   },
   "cell_type": "code",
   "source": [
    "# Read file content\n",
    "characters_matrix = []\n",
    "with open(file_path, 'r') as file:\n",
    "      for line in file:\n",
    "        characters_matrix.append(line.strip('\\n'))"
   ],
   "id": "30b636e9d075838b",
   "outputs": [],
   "execution_count": 400
  },
  {
   "metadata": {
    "ExecuteTime": {
     "end_time": "2024-12-08T14:24:10.350601Z",
     "start_time": "2024-12-08T14:24:10.347072Z"
    }
   },
   "cell_type": "code",
   "source": [
    "flattened_string = ''.join(''.join(row) for row in characters_matrix)\n",
    "unique_frequencies = set(flattened_string)\n",
    "unique_frequencies.discard('.')"
   ],
   "id": "e4219c3c5feabc55",
   "outputs": [],
   "execution_count": 401
  },
  {
   "metadata": {
    "ExecuteTime": {
     "end_time": "2024-12-08T14:24:10.499142Z",
     "start_time": "2024-12-08T14:24:10.495826Z"
    }
   },
   "cell_type": "code",
   "source": [
    "stations_map = copy.deepcopy(characters_matrix)\n",
    "stations_map = [list(row) for row in stations_map]"
   ],
   "id": "65b839d750e1920f",
   "outputs": [],
   "execution_count": 402
  },
  {
   "metadata": {
    "ExecuteTime": {
     "end_time": "2024-12-08T14:24:10.648102Z",
     "start_time": "2024-12-08T14:24:10.643916Z"
    }
   },
   "cell_type": "code",
   "source": [
    "def get_station_coordinates(frequency, map):\n",
    "    rows = len(map)\n",
    "    cols = len(map[0])\n",
    "    coordinates = []\n",
    "    for row in range(rows):\n",
    "        for col in range(cols):\n",
    "            if map[row][col] == frequency:\n",
    "                coordinates.append((row, col))\n",
    "    return coordinates"
   ],
   "id": "f83f0a7d0cff7f8d",
   "outputs": [],
   "execution_count": 403
  },
  {
   "metadata": {
    "ExecuteTime": {
     "end_time": "2024-12-08T14:24:10.941469Z",
     "start_time": "2024-12-08T14:24:10.938404Z"
    }
   },
   "cell_type": "code",
   "source": [
    "test_map = [\n",
    "'............',\n",
    "'........0...',\n",
    "'.....0......',\n",
    "'.......0....',\n",
    "'....0.......',\n",
    "'......A.....',\n",
    "'............',\n",
    "'............',\n",
    "'........A...',\n",
    "'.........A..',\n",
    "'............',\n",
    "'............'\n",
    "    ]\n",
    "\n",
    "#stations_map = copy.deepcopy(test_map)\n",
    "#stations_map = [list(row) for row in map]"
   ],
   "id": "11daa2a660a1072",
   "outputs": [],
   "execution_count": 404
  },
  {
   "metadata": {
    "ExecuteTime": {
     "end_time": "2024-12-08T14:24:11.316614Z",
     "start_time": "2024-12-08T14:24:11.312678Z"
    }
   },
   "cell_type": "code",
   "source": [
    "def compute_antinodes_for_two_stations(loc_1, loc_2, rows, cols):\n",
    "\n",
    "    stations_distance = sqrt((loc_1[0] - loc_2[0])**2 + (loc_1[1] - loc_2[1])**2)\n",
    "\n",
    "    direction = ((loc_2[0] - loc_1[0]) / stations_distance, (loc_2[1] - loc_1[1]) / stations_distance)\n",
    "    \n",
    "    antinodes = [\n",
    "        (int(loc_1[0] + stations_distance *2* direction[0]), int(loc_1[1] + stations_distance *2* direction[1])),\n",
    "        (int(loc_2[0] - stations_distance *2* direction[0]), int(loc_2[1] - stations_distance *2* direction[1]))\n",
    "    ]\n",
    "    \n",
    "    valid_antinodes = []\n",
    "    for antinode in antinodes:\n",
    "        if 0 <= antinode[0] < rows and 0 <= antinode[1] < cols:\n",
    "            valid_antinodes.append(antinode)\n",
    "    \n",
    "    return valid_antinodes"
   ],
   "id": "3483625ab8ec2007",
   "outputs": [],
   "execution_count": 405
  },
  {
   "metadata": {
    "ExecuteTime": {
     "end_time": "2024-12-08T14:24:11.831086Z",
     "start_time": "2024-12-08T14:24:11.828463Z"
    }
   },
   "cell_type": "code",
   "source": [
    "def get_possible_permutations(station_coordinates):\n",
    "    return list(combinations(station_coordinates, 2))"
   ],
   "id": "88cc700b69c66fce",
   "outputs": [],
   "execution_count": 406
  },
  {
   "metadata": {
    "ExecuteTime": {
     "end_time": "2024-12-08T14:24:12.137230Z",
     "start_time": "2024-12-08T14:24:12.133483Z"
    }
   },
   "cell_type": "code",
   "source": [
    "def get_antinodes_for_one_frequency(frequency, stations_map,model):\n",
    "    antinodes = []\n",
    "    stations_coordinates = get_station_coordinates(frequency, stations_map)\n",
    "    rows = len(stations_map)\n",
    "    cols = len(stations_map[0])\n",
    "    for stations_pairs in get_possible_permutations(stations_coordinates):\n",
    "        if model:\n",
    "            antinodes.append(compute_antinodes_for_two_stations_new_model(stations_pairs[0], stations_pairs[1], rows, cols))\n",
    "        else: \n",
    "            antinodes.append(compute_antinodes_for_two_stations(stations_pairs[0], stations_pairs[1], rows, cols))\n",
    "    flattened_list = [item for sublist in antinodes for item in sublist]\n",
    "    unique_antinodes = set(flattened_list)\n",
    "    return unique_antinodes"
   ],
   "id": "b24b3249fec9e37d",
   "outputs": [],
   "execution_count": 407
  },
  {
   "metadata": {
    "ExecuteTime": {
     "end_time": "2024-12-08T14:24:12.454352Z",
     "start_time": "2024-12-08T14:24:12.448745Z"
    }
   },
   "cell_type": "code",
   "source": [
    "def add_antinodes_to_map(map, antinodes):\n",
    "    antinodes_map = copy.deepcopy(map)\n",
    "    for antinode in antinodes:\n",
    "        antinodes_map[antinode[0]][antinode[1]] = '#'\n",
    "    return antinodes_map"
   ],
   "id": "d4e446be1739aa8d",
   "outputs": [],
   "execution_count": 408
  },
  {
   "metadata": {
    "ExecuteTime": {
     "end_time": "2024-12-08T14:24:12.938610Z",
     "start_time": "2024-12-08T14:24:12.935439Z"
    }
   },
   "cell_type": "code",
   "source": [
    "flattened_string = ''.join(''.join(row) for row in stations_map)\n",
    "unique_frequencies = set(flattened_string)\n",
    "unique_frequencies.discard('.')"
   ],
   "id": "de1a801114b4acfe",
   "outputs": [],
   "execution_count": 409
  },
  {
   "metadata": {
    "ExecuteTime": {
     "end_time": "2024-12-08T14:24:13.287103Z",
     "start_time": "2024-12-08T14:24:13.281706Z"
    }
   },
   "cell_type": "code",
   "source": [
    "def get_all_antinodes(map, unique_frequencies, model):\n",
    "    all_antinodes = []\n",
    "    for frequency in unique_frequencies:\n",
    "        antinodes = get_antinodes_for_one_frequency(frequency, map, model)\n",
    "        all_antinodes.extend(antinodes)\n",
    "    return list(set(all_antinodes))"
   ],
   "id": "936648a98c93f8f3",
   "outputs": [],
   "execution_count": 410
  },
  {
   "metadata": {
    "ExecuteTime": {
     "end_time": "2024-12-08T14:24:13.603610Z",
     "start_time": "2024-12-08T14:24:13.595061Z"
    }
   },
   "cell_type": "code",
   "source": [
    "model = 0\n",
    "all_antinodes = get_all_antinodes(stations_map, unique_frequencies, model)"
   ],
   "id": "21310a2d6de2ba49",
   "outputs": [],
   "execution_count": 411
  },
  {
   "metadata": {
    "ExecuteTime": {
     "end_time": "2024-12-08T14:24:13.965468Z",
     "start_time": "2024-12-08T14:24:13.959988Z"
    }
   },
   "cell_type": "code",
   "source": "antinodes_map = add_antinodes_to_map(stations_map, all_antinodes)",
   "id": "cc2a7a07c7c0017c",
   "outputs": [],
   "execution_count": 412
  },
  {
   "metadata": {
    "ExecuteTime": {
     "end_time": "2024-12-08T14:24:14.704242Z",
     "start_time": "2024-12-08T14:24:14.699058Z"
    }
   },
   "cell_type": "code",
   "source": [
    "flattened_string = \"\".join(\"\".join(row) for row in antinodes_map)\n",
    "\n",
    "location_count = flattened_string.count('#')\n",
    "\n",
    "print(\"Number of antinodes:\", location_count)"
   ],
   "id": "71e8854bc0458b72",
   "outputs": [
    {
     "name": "stdout",
     "output_type": "stream",
     "text": [
      "Number of antinodes: 413\n"
     ]
    }
   ],
   "execution_count": 413
  },
  {
   "metadata": {},
   "cell_type": "markdown",
   "source": "## Second star",
   "id": "e77a21fc7d1f5ce1"
  },
  {
   "metadata": {
    "ExecuteTime": {
     "end_time": "2024-12-08T14:24:16.024550Z",
     "start_time": "2024-12-08T14:24:16.017479Z"
    }
   },
   "cell_type": "code",
   "source": [
    "from math import gcd\n",
    "\n",
    "def compute_antinodes_for_two_stations_new_model(loc_1, loc_2, rows, cols):\n",
    "    \n",
    "    antinodes = set()\n",
    "    (row1, col1) = loc_1\n",
    "    (row2, col2) = loc_2\n",
    "    \n",
    "    dir_r = row2 - row1\n",
    "    dir_c = col2 - col1\n",
    "    \n",
    "    g_factor = gcd(dir_r, dir_c)\n",
    "    dir_r //= g_factor\n",
    "    dir_c //= g_factor\n",
    "\n",
    "    antinodes.add((row1, col1))\n",
    "    antinodes.add((row2, col2))\n",
    "\n",
    "    running_row, running_col = row1 + dir_r, col1 + dir_c\n",
    "    while 0 <= running_row < rows and 0 <= running_col < cols:\n",
    "        antinodes.add((running_row, running_col))\n",
    "        running_row += dir_r\n",
    "        running_col += dir_c\n",
    "\n",
    "    running_row, running_col = row1 - dir_r, col1 - dir_c\n",
    "    while 0 <= running_row < rows and 0 <= running_col < cols:\n",
    "        antinodes.add((running_row, running_col))\n",
    "        running_row -= dir_r\n",
    "        running_col -= dir_c\n",
    "    \n",
    "    return antinodes"
   ],
   "id": "99a6f7131bf5f0b4",
   "outputs": [],
   "execution_count": 414
  },
  {
   "metadata": {
    "ExecuteTime": {
     "end_time": "2024-12-08T14:24:16.747078Z",
     "start_time": "2024-12-08T14:24:16.732821Z"
    }
   },
   "cell_type": "code",
   "source": [
    "model = 1\n",
    "all_antinodes = get_all_antinodes(stations_map, unique_frequencies, model)"
   ],
   "id": "26048b223f489ae0",
   "outputs": [],
   "execution_count": 415
  },
  {
   "metadata": {
    "ExecuteTime": {
     "end_time": "2024-12-08T14:24:26.089442Z",
     "start_time": "2024-12-08T14:24:26.085431Z"
    }
   },
   "cell_type": "code",
   "source": "antinodes_map = add_antinodes_to_map(stations_map, all_antinodes)",
   "id": "e9ebb597ca72f7ad",
   "outputs": [],
   "execution_count": 418
  },
  {
   "metadata": {
    "ExecuteTime": {
     "end_time": "2024-12-08T14:24:26.337187Z",
     "start_time": "2024-12-08T14:24:26.332101Z"
    }
   },
   "cell_type": "code",
   "source": [
    "flattened_string = \"\".join(\"\".join(row) for row in antinodes_map)\n",
    "\n",
    "location_count = flattened_string.count('#')\n",
    "\n",
    "print(\"Number of antinodes:\", location_count)"
   ],
   "id": "2f2c7ab48a6ee6c9",
   "outputs": [
    {
     "name": "stdout",
     "output_type": "stream",
     "text": [
      "Number of antinodes: 1417\n"
     ]
    }
   ],
   "execution_count": 419
  }
 ],
 "metadata": {
  "kernelspec": {
   "display_name": "Python 3",
   "language": "python",
   "name": "python3"
  },
  "language_info": {
   "codemirror_mode": {
    "name": "ipython",
    "version": 2
   },
   "file_extension": ".py",
   "mimetype": "text/x-python",
   "name": "python",
   "nbconvert_exporter": "python",
   "pygments_lexer": "ipython2",
   "version": "2.7.6"
  }
 },
 "nbformat": 4,
 "nbformat_minor": 5
}
