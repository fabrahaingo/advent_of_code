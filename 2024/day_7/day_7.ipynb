{
 "cells": [
  {
   "metadata": {},
   "cell_type": "markdown",
   "source": "## First star",
   "id": "71f669e362ee00d0"
  },
  {
   "metadata": {
    "ExecuteTime": {
     "end_time": "2024-12-08T12:51:45.554564Z",
     "start_time": "2024-12-08T12:51:45.551307Z"
    }
   },
   "cell_type": "code",
   "source": [
    "import sys\n",
    "import copy\n",
    "from itertools import product"
   ],
   "id": "initial_id",
   "outputs": [],
   "execution_count": 140
  },
  {
   "metadata": {
    "ExecuteTime": {
     "end_time": "2024-12-08T12:51:45.733365Z",
     "start_time": "2024-12-08T12:51:45.729551Z"
    }
   },
   "cell_type": "code",
   "source": "sys.path.append(\"../\")",
   "id": "4fea87bb3bd97a63",
   "outputs": [],
   "execution_count": 141
  },
  {
   "metadata": {
    "ExecuteTime": {
     "end_time": "2024-12-08T12:51:45.869698Z",
     "start_time": "2024-12-08T12:51:45.864937Z"
    }
   },
   "cell_type": "code",
   "source": "file_path = 'input_ag.txt'",
   "id": "d1edb1fac30300ca",
   "outputs": [],
   "execution_count": 142
  },
  {
   "metadata": {
    "ExecuteTime": {
     "end_time": "2024-12-08T12:51:45.990469Z",
     "start_time": "2024-12-08T12:51:45.983474Z"
    }
   },
   "cell_type": "code",
   "source": [
    "# Read file content\n",
    "test_dict = {}\n",
    "with open(file_path, 'r') as file:\n",
    "    for line in file:\n",
    "        test_target_str, numbers_str = line.split(': ')\n",
    "        numbers_str = numbers_str.split(' ')\n",
    "        test_dict[int(test_target_str)] = [int(num) for num in numbers_str]"
   ],
   "id": "30b636e9d075838b",
   "outputs": [],
   "execution_count": 143
  },
  {
   "metadata": {
    "ExecuteTime": {
     "end_time": "2024-12-08T12:51:46.153840Z",
     "start_time": "2024-12-08T12:51:46.149507Z"
    }
   },
   "cell_type": "code",
   "source": [
    "def perform_operation(numbers, operators):\n",
    "    result = numbers[0]\n",
    "    for operator, number in zip(operators, numbers[1:]):\n",
    "        if operator == '+':\n",
    "            result += number\n",
    "        elif operator == '*':\n",
    "            result *= number\n",
    "        elif operator == '|':\n",
    "            result = int(str(result) + str(number))\n",
    "    return result"
   ],
   "id": "30e3878ba2646c5b",
   "outputs": [],
   "execution_count": 144
  },
  {
   "metadata": {
    "ExecuteTime": {
     "end_time": "2024-12-08T12:51:46.577535Z",
     "start_time": "2024-12-08T12:51:46.574523Z"
    }
   },
   "cell_type": "code",
   "source": [
    "def generate_operator_sequences(n):\n",
    "    for ops in product(['+', '*'], repeat=n):\n",
    "        yield \"\".join(ops)"
   ],
   "id": "92aeb3830c93097e",
   "outputs": [],
   "execution_count": 145
  },
  {
   "metadata": {
    "ExecuteTime": {
     "end_time": "2024-12-08T12:51:46.875267Z",
     "start_time": "2024-12-08T12:51:46.870336Z"
    }
   },
   "cell_type": "code",
   "source": [
    "def test_operations(test_target, numbers):\n",
    "    for sequence in generate_operator_sequences(len(numbers)-1):\n",
    "        if test_target == perform_operation(numbers, sequence):\n",
    "            return True\n",
    "    return False"
   ],
   "id": "68d03f5cc6bcb899",
   "outputs": [],
   "execution_count": 146
  },
  {
   "metadata": {
    "ExecuteTime": {
     "end_time": "2024-12-08T12:51:47.297643Z",
     "start_time": "2024-12-08T12:51:47.161952Z"
    }
   },
   "cell_type": "code",
   "source": [
    "target_kept_values =[]\n",
    "for test_target, numbers in test_dict.items():\n",
    "    if test_operations(test_target, numbers):\n",
    "        target_kept_values.append(test_target)"
   ],
   "id": "75e1a9dec46cb444",
   "outputs": [],
   "execution_count": 147
  },
  {
   "metadata": {
    "ExecuteTime": {
     "end_time": "2024-12-08T12:51:47.619733Z",
     "start_time": "2024-12-08T12:51:47.615996Z"
    }
   },
   "cell_type": "code",
   "source": [
    "result = sum(target_kept_values)\n",
    "print(result)"
   ],
   "id": "8ba30103df3fe344",
   "outputs": [
    {
     "name": "stdout",
     "output_type": "stream",
     "text": [
      "1985268524462\n"
     ]
    }
   ],
   "execution_count": 148
  },
  {
   "metadata": {},
   "cell_type": "markdown",
   "source": "## Second star",
   "id": "e77a21fc7d1f5ce1"
  },
  {
   "metadata": {
    "ExecuteTime": {
     "end_time": "2024-12-08T12:52:50.718337Z",
     "start_time": "2024-12-08T12:52:50.715116Z"
    }
   },
   "cell_type": "code",
   "source": [
    "def generate_operator_sequences_second_star(n):\n",
    "    for ops in product(['+', '*', '|'], repeat=n):\n",
    "        yield \"\".join(ops)"
   ],
   "id": "eeec47cdcae06199",
   "outputs": [],
   "execution_count": 154
  },
  {
   "metadata": {
    "ExecuteTime": {
     "end_time": "2024-12-08T12:52:50.881086Z",
     "start_time": "2024-12-08T12:52:50.878841Z"
    }
   },
   "cell_type": "code",
   "source": [
    "def test_operations_second_star(test_target, numbers):\n",
    "    for sequence in generate_operator_sequences_second_star(len(numbers)-1):\n",
    "       if test_target == perform_operation(numbers, sequence):\n",
    "            return True\n",
    "    return False"
   ],
   "id": "5b113a76f640c4c",
   "outputs": [],
   "execution_count": 155
  },
  {
   "metadata": {
    "ExecuteTime": {
     "end_time": "2024-12-08T12:53:01.115781Z",
     "start_time": "2024-12-08T12:52:51.000185Z"
    }
   },
   "cell_type": "code",
   "source": [
    "target_kept_values =[]\n",
    "for test_target, numbers in test_dict.items():\n",
    "    if test_operations_second_star(test_target, numbers):\n",
    "        target_kept_values.append(test_target)"
   ],
   "id": "2e3dd057649054ef",
   "outputs": [],
   "execution_count": 156
  },
  {
   "metadata": {
    "ExecuteTime": {
     "end_time": "2024-12-08T12:53:01.119267Z",
     "start_time": "2024-12-08T12:53:01.117069Z"
    }
   },
   "cell_type": "code",
   "source": [
    "result = sum(target_kept_values)\n",
    "print(result)"
   ],
   "id": "16dd51493314c12f",
   "outputs": [
    {
     "name": "stdout",
     "output_type": "stream",
     "text": [
      "150077710195188\n"
     ]
    }
   ],
   "execution_count": 157
  }
 ],
 "metadata": {
  "kernelspec": {
   "display_name": "Python 3",
   "language": "python",
   "name": "python3"
  },
  "language_info": {
   "codemirror_mode": {
    "name": "ipython",
    "version": 2
   },
   "file_extension": ".py",
   "mimetype": "text/x-python",
   "name": "python",
   "nbconvert_exporter": "python",
   "pygments_lexer": "ipython2",
   "version": "2.7.6"
  }
 },
 "nbformat": 4,
 "nbformat_minor": 5
}
