{
 "cells": [
  {
   "metadata": {},
   "cell_type": "markdown",
   "source": "## First star",
   "id": "71f669e362ee00d0"
  },
  {
   "metadata": {
    "ExecuteTime": {
     "end_time": "2024-12-07T20:54:41.680066Z",
     "start_time": "2024-12-07T20:54:41.676736Z"
    }
   },
   "cell_type": "code",
   "source": [
    "import sys\n",
    "import re"
   ],
   "id": "initial_id",
   "outputs": [],
   "execution_count": 83
  },
  {
   "metadata": {
    "ExecuteTime": {
     "end_time": "2024-12-07T20:54:41.805423Z",
     "start_time": "2024-12-07T20:54:41.801924Z"
    }
   },
   "cell_type": "code",
   "source": "sys.path.append(\"../\")",
   "id": "4fea87bb3bd97a63",
   "outputs": [],
   "execution_count": 84
  },
  {
   "metadata": {
    "ExecuteTime": {
     "end_time": "2024-12-07T20:54:41.914585Z",
     "start_time": "2024-12-07T20:54:41.911357Z"
    }
   },
   "cell_type": "code",
   "source": "file_path = 'input_ag.txt'",
   "id": "d1edb1fac30300ca",
   "outputs": [],
   "execution_count": 85
  },
  {
   "metadata": {
    "ExecuteTime": {
     "end_time": "2024-12-07T20:54:42.069481Z",
     "start_time": "2024-12-07T20:54:42.061980Z"
    }
   },
   "cell_type": "code",
   "source": [
    "# Read file content\n",
    "rule_pairs= []\n",
    "with open(file_path, 'r') as file:\n",
    "    pattern = re.compile(r'(\\d+)\\|(\\d+)')\n",
    "    for line in file:\n",
    "        match = pattern.search(line.strip())\n",
    "        if match:\n",
    "            num1, num2 = map(int, match.groups())\n",
    "            rule_pairs.append((num1, num2))\n",
    "         \n",
    "         \n",
    "updates = []\n",
    "with open(file_path, 'r') as file:\n",
    "    pattern = re.compile(r'(\\d+)\\,(\\d+)')\n",
    "    for line in file:\n",
    "        match = pattern.search(line.strip())\n",
    "        if match:\n",
    "            updates.append(list(map(int, line.strip('\\n').strip('').split(','))))"
   ],
   "id": "30b636e9d075838b",
   "outputs": [],
   "execution_count": 86
  },
  {
   "metadata": {
    "ExecuteTime": {
     "end_time": "2024-12-07T20:54:42.236141Z",
     "start_time": "2024-12-07T20:54:42.204577Z"
    }
   },
   "cell_type": "code",
   "source": [
    "def check_update_order(update, rule_pairs):\n",
    "    correctly_ordered = True\n",
    "    incorrect_numbers = []\n",
    "    page_index = {page: i for i, page in enumerate(update)}\n",
    "\n",
    "    for (X, Y) in rule_pairs:\n",
    "        if X in update and Y in update:\n",
    "            if page_index[X] >= page_index[Y]:\n",
    "                correctly_ordered = False\n",
    "                incorrect_numbers.append(X)\n",
    "    return correctly_ordered, incorrect_numbers\n",
    "\n",
    "sum_of_middles = 0\n",
    "for update in updates:\n",
    "    correctly_ordered, _ = check_update_order(update, rule_pairs)\n",
    "    if correctly_ordered:\n",
    "        mid_idx = len(update) // 2\n",
    "        sum_of_middles += update[mid_idx]"
   ],
   "id": "6b7bd16b9aaa5262",
   "outputs": [],
   "execution_count": 87
  },
  {
   "metadata": {
    "ExecuteTime": {
     "end_time": "2024-12-07T20:54:42.708963Z",
     "start_time": "2024-12-07T20:54:42.703701Z"
    }
   },
   "cell_type": "code",
   "source": "sum_of_middles",
   "id": "58b5bb3f65e4ed6",
   "outputs": [
    {
     "data": {
      "text/plain": [
       "5509"
      ]
     },
     "execution_count": 88,
     "metadata": {},
     "output_type": "execute_result"
    }
   ],
   "execution_count": 88
  },
  {
   "metadata": {},
   "cell_type": "markdown",
   "source": "## Second star",
   "id": "e77a21fc7d1f5ce1"
  },
  {
   "metadata": {
    "ExecuteTime": {
     "end_time": "2024-12-07T21:08:54.757432Z",
     "start_time": "2024-12-07T21:08:54.751022Z"
    }
   },
   "cell_type": "code",
   "source": [
    "def reorder_incorrect_key(number, update, rule_pairs):\n",
    "    idx = 0\n",
    "    if number in update:\n",
    "            update = [x for x in update if x != number]\n",
    "    while idx <= len(update):\n",
    "        new_update = update.copy()\n",
    "        \n",
    "        new_update.insert(idx, number)\n",
    "\n",
    "        correctly_ordered, _ = check_update_order(new_update, rule_pairs)\n",
    "\n",
    "        if correctly_ordered:\n",
    "            \n",
    "            return new_update\n",
    "\n",
    "        idx += 1\n",
    "\n",
    "    return None"
   ],
   "id": "933139ccf8ea91a",
   "outputs": [],
   "execution_count": 130
  },
  {
   "metadata": {
    "ExecuteTime": {
     "end_time": "2024-12-07T21:09:35.361916Z",
     "start_time": "2024-12-07T21:09:33.070185Z"
    }
   },
   "cell_type": "code",
   "source": [
    "sum_of_middles = 0\n",
    "for update in updates:\n",
    "    is_correct, incorrect_numbers = check_update_order(update, rule_pairs)\n",
    "    if not is_correct:\n",
    "        reordered = [num for num in update if num not in incorrect_numbers]\n",
    "\n",
    "        for number in incorrect_numbers:\n",
    "            reordered = reorder_incorrect_key(number, reordered, rule_pairs)\n",
    "            if reordered is None:\n",
    "                break\n",
    "\n",
    "        if reordered is not None:\n",
    "            mid_idx = len(reordered) // 2\n",
    "            sum_of_middles += reordered[mid_idx]"
   ],
   "id": "76d9d2d0b689ea06",
   "outputs": [],
   "execution_count": 133
  },
  {
   "metadata": {
    "ExecuteTime": {
     "end_time": "2024-12-07T21:09:35.367533Z",
     "start_time": "2024-12-07T21:09:35.363029Z"
    }
   },
   "cell_type": "code",
   "source": "sum_of_middles",
   "id": "84ae05a841930755",
   "outputs": [
    {
     "data": {
      "text/plain": [
       "4407"
      ]
     },
     "execution_count": 134,
     "metadata": {},
     "output_type": "execute_result"
    }
   ],
   "execution_count": 134
  }
 ],
 "metadata": {
  "kernelspec": {
   "display_name": "Python 3",
   "language": "python",
   "name": "python3"
  },
  "language_info": {
   "codemirror_mode": {
    "name": "ipython",
    "version": 2
   },
   "file_extension": ".py",
   "mimetype": "text/x-python",
   "name": "python",
   "nbconvert_exporter": "python",
   "pygments_lexer": "ipython2",
   "version": "2.7.6"
  }
 },
 "nbformat": 4,
 "nbformat_minor": 5
}
