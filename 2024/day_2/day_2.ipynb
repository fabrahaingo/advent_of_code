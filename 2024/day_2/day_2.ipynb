{
 "cells": [
  {
   "metadata": {},
   "cell_type": "markdown",
   "source": "## First star",
   "id": "71f669e362ee00d0"
  },
  {
   "metadata": {
    "ExecuteTime": {
     "end_time": "2024-12-07T17:31:53.419686Z",
     "start_time": "2024-12-07T17:31:53.416251Z"
    }
   },
   "cell_type": "code",
   "source": [
    "import sys\n",
    "import numpy as np"
   ],
   "id": "initial_id",
   "outputs": [],
   "execution_count": 145
  },
  {
   "metadata": {
    "ExecuteTime": {
     "end_time": "2024-12-07T17:31:53.571635Z",
     "start_time": "2024-12-07T17:31:53.567070Z"
    }
   },
   "cell_type": "code",
   "source": "sys.path.append(\"../\")",
   "id": "4fea87bb3bd97a63",
   "outputs": [],
   "execution_count": 146
  },
  {
   "metadata": {
    "ExecuteTime": {
     "end_time": "2024-12-07T17:31:53.895390Z",
     "start_time": "2024-12-07T17:31:53.892299Z"
    }
   },
   "cell_type": "code",
   "source": "file_path = 'input_ag.txt'",
   "id": "d1edb1fac30300ca",
   "outputs": [],
   "execution_count": 147
  },
  {
   "metadata": {
    "ExecuteTime": {
     "end_time": "2024-12-07T17:31:54.218905Z",
     "start_time": "2024-12-07T17:31:54.214729Z"
    }
   },
   "cell_type": "code",
   "source": [
    "def is_report_safe(report):\n",
    "    numbers_diff = [report[i + 1] - report[i] for i in range(len(report) - 1)]\n",
    "    \n",
    "    if all(diff > 0 and 1 <= diff <= 3 for diff in numbers_diff):\n",
    "        return 1\n",
    "    \n",
    "    if all(diff < 0 and -3 <= diff <= -1 for diff in numbers_diff):\n",
    "        return 1\n",
    "    \n",
    "    return 0"
   ],
   "id": "24aa4ff4181e064d",
   "outputs": [],
   "execution_count": 148
  },
  {
   "metadata": {
    "ExecuteTime": {
     "end_time": "2024-12-07T17:31:58.361306Z",
     "start_time": "2024-12-07T17:31:58.353899Z"
    }
   },
   "cell_type": "code",
   "source": [
    "conformity_list = []\n",
    "with open(file_path, 'r') as file:\n",
    "    for line in file:\n",
    "        number_strings = line.strip().split()\n",
    "        \n",
    "        report = [int(num) for num in number_strings]\n",
    "        \n",
    "        conformity = is_report_safe(report)\n",
    "        \n",
    "        conformity_list.append(conformity)\n",
    "\n",
    "safe_reports = sum(conformity_list)"
   ],
   "id": "a534108ea0b1bc2d",
   "outputs": [],
   "execution_count": 149
  },
  {
   "metadata": {
    "ExecuteTime": {
     "end_time": "2024-12-07T17:31:59.299598Z",
     "start_time": "2024-12-07T17:31:59.294338Z"
    }
   },
   "cell_type": "code",
   "source": "print(f\"Number of safe reports: {safe_reports}\")",
   "id": "b5ea60a1e1ae7a84",
   "outputs": [
    {
     "name": "stdout",
     "output_type": "stream",
     "text": [
      "Number of safe reports: 564\n"
     ]
    }
   ],
   "execution_count": 150
  },
  {
   "metadata": {},
   "cell_type": "markdown",
   "source": "## Second star",
   "id": "e77a21fc7d1f5ce1"
  },
  {
   "metadata": {
    "ExecuteTime": {
     "end_time": "2024-12-07T17:32:01.050892Z",
     "start_time": "2024-12-07T17:32:01.044841Z"
    }
   },
   "cell_type": "code",
   "source": [
    "def is_report_safe_with_dampener(report):\n",
    "    if is_report_safe(report):\n",
    "        return True\n",
    "    for i in range(len(report)):\n",
    "        modified_report = report[:i] + report[i+1:] \n",
    "        if len(modified_report)>1:\n",
    "            if is_report_safe(modified_report):\n",
    "                return True\n",
    "    return False"
   ],
   "id": "b7207fdc54d57434",
   "outputs": [],
   "execution_count": 151
  },
  {
   "metadata": {
    "ExecuteTime": {
     "end_time": "2024-12-07T17:32:01.855401Z",
     "start_time": "2024-12-07T17:32:01.844435Z"
    }
   },
   "cell_type": "code",
   "source": [
    "conformity_list = []\n",
    "with open(file_path, 'r') as file:\n",
    "    for line in file:\n",
    "        number_strings = line.strip().split()\n",
    "        \n",
    "        report = [int(num) for num in number_strings]\n",
    "        \n",
    "        conformity = is_report_safe_with_dampener(report)\n",
    "        \n",
    "        conformity_list.append(conformity)\n",
    "\n",
    "safe_reports = sum(conformity_list)"
   ],
   "id": "ef0e8c58350849bc",
   "outputs": [],
   "execution_count": 152
  },
  {
   "metadata": {
    "ExecuteTime": {
     "end_time": "2024-12-07T17:32:02.525153Z",
     "start_time": "2024-12-07T17:32:02.521169Z"
    }
   },
   "cell_type": "code",
   "source": "print(f\"Number of safe reports: {safe_reports}\")",
   "id": "72bc1c6b0a5b56f0",
   "outputs": [
    {
     "name": "stdout",
     "output_type": "stream",
     "text": [
      "Number of safe reports: 604\n"
     ]
    }
   ],
   "execution_count": 153
  }
 ],
 "metadata": {
  "kernelspec": {
   "display_name": "Python 3",
   "language": "python",
   "name": "python3"
  },
  "language_info": {
   "codemirror_mode": {
    "name": "ipython",
    "version": 2
   },
   "file_extension": ".py",
   "mimetype": "text/x-python",
   "name": "python",
   "nbconvert_exporter": "python",
   "pygments_lexer": "ipython2",
   "version": "2.7.6"
  }
 },
 "nbformat": 4,
 "nbformat_minor": 5
}
