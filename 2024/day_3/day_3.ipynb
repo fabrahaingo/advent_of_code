{
 "cells": [
  {
   "metadata": {},
   "cell_type": "markdown",
   "source": "## First star",
   "id": "71f669e362ee00d0"
  },
  {
   "metadata": {
    "ExecuteTime": {
     "end_time": "2024-12-07T18:18:32.182607Z",
     "start_time": "2024-12-07T18:18:32.179111Z"
    }
   },
   "cell_type": "code",
   "source": [
    "import sys\n",
    "import re"
   ],
   "id": "initial_id",
   "outputs": [],
   "execution_count": 80
  },
  {
   "metadata": {
    "ExecuteTime": {
     "end_time": "2024-12-07T18:18:32.390731Z",
     "start_time": "2024-12-07T18:18:32.385794Z"
    }
   },
   "cell_type": "code",
   "source": "sys.path.append(\"../\")",
   "id": "4fea87bb3bd97a63",
   "outputs": [],
   "execution_count": 81
  },
  {
   "metadata": {
    "ExecuteTime": {
     "end_time": "2024-12-07T18:18:32.499232Z",
     "start_time": "2024-12-07T18:18:32.495573Z"
    }
   },
   "cell_type": "code",
   "source": "file_path = 'input_ag.txt'",
   "id": "d1edb1fac30300ca",
   "outputs": [],
   "execution_count": 82
  },
  {
   "metadata": {
    "ExecuteTime": {
     "end_time": "2024-12-07T18:18:32.622519Z",
     "start_time": "2024-12-07T18:18:32.618743Z"
    }
   },
   "cell_type": "code",
   "source": [
    "def extract_correct_multiplications(content):\n",
    "    pattern = re.compile(r'mul\\((\\d+),(\\d+)\\)')\n",
    "    summed_value = 0\n",
    "    for match in pattern.finditer(content):\n",
    "        num1, num2 = map(int, match.groups())\n",
    "        mul_value = num1 * num2\n",
    "        summed_value += mul_value\n",
    "    return summed_value       "
   ],
   "id": "499aa20f29933901",
   "outputs": [],
   "execution_count": 83
  },
  {
   "metadata": {
    "ExecuteTime": {
     "end_time": "2024-12-07T18:18:32.794443Z",
     "start_time": "2024-12-07T18:18:32.789400Z"
    }
   },
   "cell_type": "code",
   "source": [
    "total_value = 0\n",
    "with open(file_path, 'r') as file:\n",
    "    for line in file:\n",
    "        total_value = total_value + extract_correct_multiplications(line)"
   ],
   "id": "a534108ea0b1bc2d",
   "outputs": [],
   "execution_count": 84
  },
  {
   "metadata": {
    "ExecuteTime": {
     "end_time": "2024-12-07T18:18:33.354830Z",
     "start_time": "2024-12-07T18:18:33.349754Z"
    }
   },
   "cell_type": "code",
   "source": "print(f\"The total sum of enabled multiplications is: {total_value}\")",
   "id": "b5ea60a1e1ae7a84",
   "outputs": [
    {
     "name": "stdout",
     "output_type": "stream",
     "text": [
      "The total sum of enabled multiplications is: 179834255\n"
     ]
    }
   ],
   "execution_count": 85
  },
  {
   "metadata": {},
   "cell_type": "markdown",
   "source": "## Second star",
   "id": "e77a21fc7d1f5ce1"
  },
  {
   "metadata": {
    "ExecuteTime": {
     "end_time": "2024-12-07T18:18:36.453636Z",
     "start_time": "2024-12-07T18:18:36.447083Z"
    }
   },
   "cell_type": "code",
   "source": [
    "'''\n",
    "def extract_correct_multiplications(content):\n",
    "    pattern = re.compile(r'mul\\((\\d+),(\\d+)\\)')\n",
    "    summed_value = 0\n",
    "    for match in pattern.finditer(content):\n",
    "        num1, num2 = map(int, match.groups())\n",
    "        mul_value = num1 * num2\n",
    "        summed_value += mul_value\n",
    "    return summed_value\n",
    "\n",
    "def extract_relevant_sections(line, current_state):\n",
    "\n",
    "    line_total = 0\n",
    "    pattern = re.compile(r\"do\\(\\)|don't\\(\\)\")\n",
    "    matches = list(pattern.finditer(line))\n",
    "\n",
    "    if current_state and matches:\n",
    "        line_total += extract_correct_multiplications(line[:matches[0].start()])\n",
    "\n",
    "    for i, match in enumerate(matches):\n",
    "        next_start = matches[i + 1].start() if i + 1 < len(matches) else len(line)\n",
    "        section = line[match.end():next_start]\n",
    "        \n",
    "        if current_state:\n",
    "            line_total += extract_correct_multiplications(section)\n",
    "        \n",
    "        if match.group() == \"do()\":\n",
    "            current_state = True\n",
    "        elif match.group() == \"don't()\":\n",
    "            current_state = False\n",
    "\n",
    "    return line_total, current_state'''\n"
   ],
   "id": "b7207fdc54d57434",
   "outputs": [],
   "execution_count": 86
  },
  {
   "metadata": {
    "ExecuteTime": {
     "end_time": "2024-12-07T18:18:36.785717Z",
     "start_time": "2024-12-07T18:18:36.779487Z"
    }
   },
   "cell_type": "code",
   "source": [
    "'''total_value = 0\n",
    "current_state = True\n",
    "with open(file_path, 'r') as file:\n",
    "    for line in file:\n",
    "        line = line.strip()\n",
    "        if not line:  \n",
    "            continue\n",
    "        line_total_value, current_state = extract_relevant_sections(line,current_state)\n",
    "        total_value += line_total_value'''"
   ],
   "id": "ef0e8c58350849bc",
   "outputs": [],
   "execution_count": 87
  },
  {
   "metadata": {
    "ExecuteTime": {
     "end_time": "2024-12-07T18:23:11.658593Z",
     "start_time": "2024-12-07T18:23:11.652629Z"
    }
   },
   "cell_type": "code",
   "source": [
    "def process_corrupted_memory(file_path):\n",
    "    pattern = re.compile(\n",
    "        r\"(do\\(\\))|(don't\\(\\))|mul\\((\\d{1,3}),(\\d{1,3})\\)\"\n",
    "    )\n",
    "    \n",
    "    total = 0\n",
    "    enabled = True\n",
    "    \n",
    "    with open(file_path, 'r') as file:\n",
    "        for line in file:\n",
    "\n",
    "            for match in pattern.finditer(line):\n",
    "                \n",
    "                do_inst = match.group(1)\n",
    "                dont_inst = match.group(2)\n",
    "                mul_x = match.group(3)\n",
    "                mul_y = match.group(4)\n",
    "                \n",
    "                if do_inst is not None:\n",
    "                    enabled = True\n",
    "                elif dont_inst is not None:\n",
    "                    enabled = False\n",
    "                elif mul_x is not None and mul_y is not None:\n",
    "                    if enabled:\n",
    "                        x = int(mul_x)\n",
    "                        y = int(mul_y)\n",
    "                        total += x * y\n",
    "                        \n",
    "    return total"
   ],
   "id": "43c68c0cafe10d9a",
   "outputs": [],
   "execution_count": 89
  },
  {
   "metadata": {
    "ExecuteTime": {
     "end_time": "2024-12-07T18:25:23.940323Z",
     "start_time": "2024-12-07T18:25:23.936986Z"
    }
   },
   "cell_type": "code",
   "source": "print(f\"The total sum of enabled multiplications is: {process_corrupted_memory(file_path)}\")",
   "id": "72bc1c6b0a5b56f0",
   "outputs": [
    {
     "name": "stdout",
     "output_type": "stream",
     "text": [
      "The total sum of enabled multiplications is: 80570939\n"
     ]
    }
   ],
   "execution_count": 91
  }
 ],
 "metadata": {
  "kernelspec": {
   "display_name": "Python 3",
   "language": "python",
   "name": "python3"
  },
  "language_info": {
   "codemirror_mode": {
    "name": "ipython",
    "version": 2
   },
   "file_extension": ".py",
   "mimetype": "text/x-python",
   "name": "python",
   "nbconvert_exporter": "python",
   "pygments_lexer": "ipython2",
   "version": "2.7.6"
  }
 },
 "nbformat": 4,
 "nbformat_minor": 5
}
