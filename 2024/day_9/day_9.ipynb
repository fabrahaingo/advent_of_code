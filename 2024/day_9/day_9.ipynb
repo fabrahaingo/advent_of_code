{
 "cells": [
  {
   "metadata": {},
   "cell_type": "markdown",
   "source": "## First star",
   "id": "71f669e362ee00d0"
  },
  {
   "metadata": {
    "ExecuteTime": {
     "end_time": "2024-12-10T06:27:48.286452Z",
     "start_time": "2024-12-10T06:27:48.280822Z"
    }
   },
   "cell_type": "code",
   "source": "import sys",
   "id": "initial_id",
   "outputs": [],
   "execution_count": 1
  },
  {
   "metadata": {
    "ExecuteTime": {
     "end_time": "2024-12-10T06:27:48.295947Z",
     "start_time": "2024-12-10T06:27:48.291941Z"
    }
   },
   "cell_type": "code",
   "source": "sys.path.append(\"../\")",
   "id": "4fea87bb3bd97a63",
   "outputs": [],
   "execution_count": 2
  },
  {
   "metadata": {
    "ExecuteTime": {
     "end_time": "2024-12-10T06:27:48.301926Z",
     "start_time": "2024-12-10T06:27:48.298623Z"
    }
   },
   "cell_type": "code",
   "source": "file_path = 'input_ag.txt'",
   "id": "d1edb1fac30300ca",
   "outputs": [],
   "execution_count": 3
  },
  {
   "metadata": {
    "ExecuteTime": {
     "end_time": "2024-12-10T06:27:48.331184Z",
     "start_time": "2024-12-10T06:27:48.325905Z"
    }
   },
   "cell_type": "code",
   "source": [
    "# Read file content\n",
    "with open(file_path, 'r') as file:\n",
    "    characters_string = file.read()\n",
    "\n",
    "# Remove newlines and spaces\n",
    "characters_string = characters_string.replace('\\n', '')"
   ],
   "id": "30b636e9d075838b",
   "outputs": [],
   "execution_count": 4
  },
  {
   "metadata": {
    "ExecuteTime": {
     "end_time": "2024-12-10T06:27:48.347166Z",
     "start_time": "2024-12-10T06:27:48.343693Z"
    }
   },
   "cell_type": "code",
   "source": [
    "test_example = '2333133121414131402'\n",
    "test_simple = '12345'"
   ],
   "id": "ff0e65b44fac88e0",
   "outputs": [],
   "execution_count": 5
  },
  {
   "metadata": {
    "ExecuteTime": {
     "end_time": "2024-12-10T06:28:38.271282Z",
     "start_time": "2024-12-10T06:27:48.352291Z"
    }
   },
   "cell_type": "code",
   "source": [
    "def transform_to_sequence(characters_string):\n",
    "    nchars = len(characters_string)\n",
    "    encoded_string = []\n",
    "    file_index = 0\n",
    "    for i in range(nchars):\n",
    "        \n",
    "        if i % 2 == 0:  \n",
    "            encoded_string.append(str(file_index) * int(characters_string[i]))\n",
    "            file_index += 1\n",
    "        else:  \n",
    "            encoded_string.append('.' * int(characters_string[i]))\n",
    "    return ''.join(encoded_string)\n",
    "\n",
    "def fill_gaps(s: str) -> str:\n",
    "    chars = list(s)\n",
    "    while True:\n",
    "        \n",
    "        arrangement = ''.join(chars)\n",
    "        gap_index = arrangement.find('.')\n",
    "        \n",
    "        if gap_index == -1:\n",
    "            break\n",
    "\n",
    "        right_digit_pos = -1\n",
    "        for idx in range(len(chars)-1, gap_index, -1):\n",
    "            if chars[idx].isdigit():\n",
    "                right_digit_pos = idx\n",
    "                break\n",
    "\n",
    "        if right_digit_pos == -1:\n",
    "            break\n",
    "        \n",
    "        chars[gap_index], chars[right_digit_pos] = chars[right_digit_pos], '.'\n",
    "    \n",
    "    return ''.join(chars)\n",
    "\n",
    "def compute_checksum(ordered_string):\n",
    "    checksum = 0\n",
    "    for i, ch in enumerate(ordered_string):\n",
    "        if ch.isdigit():\n",
    "            checksum += long(ch) * i\n",
    "    return checksum\n",
    "\n",
    "transformed_string = transform_to_sequence(characters_string)\n",
    "final_arrangement = fill_gaps(transformed_string)\n",
    "result = compute_checksum(final_arrangement)\n",
    "print(result)"
   ],
   "id": "9ef6377269280f12",
   "outputs": [
    {
     "name": "stdout",
     "output_type": "stream",
     "text": [
      "90719109188\n"
     ]
    }
   ],
   "execution_count": 6
  },
  {
   "metadata": {
    "ExecuteTime": {
     "end_time": "2024-12-10T06:29:19.821942Z",
     "start_time": "2024-12-10T06:29:19.815571Z"
    }
   },
   "cell_type": "code",
   "source": "",
   "id": "1c4c083cb18561de",
   "outputs": [],
   "execution_count": 9
  },
  {
   "metadata": {
    "ExecuteTime": {
     "end_time": "2024-12-10T06:30:04.354601Z",
     "start_time": "2024-12-10T06:30:04.348433Z"
    }
   },
   "cell_type": "code",
   "source": [
    "def compute_checksum(ordered_string):\n",
    "    checksum = float(0)\n",
    "    for i, ch in enumerate(ordered_string):\n",
    "        if ch.isdigit():\n",
    "            checksum += float(ch) * float(i)\n",
    "    return checksum"
   ],
   "id": "10636d9a755716ed",
   "outputs": [],
   "execution_count": 13
  },
  {
   "metadata": {
    "ExecuteTime": {
     "end_time": "2024-12-10T06:30:05.176272Z",
     "start_time": "2024-12-10T06:30:05.143325Z"
    }
   },
   "cell_type": "code",
   "source": [
    "result = compute_checksum(final_arrangement)\n",
    "print(result)"
   ],
   "id": "d2f84011d7c39129",
   "outputs": [
    {
     "name": "stdout",
     "output_type": "stream",
     "text": [
      "90719109188.0\n"
     ]
    }
   ],
   "execution_count": 14
  },
  {
   "metadata": {},
   "cell_type": "markdown",
   "source": "## Second star",
   "id": "e77a21fc7d1f5ce1"
  },
  {
   "metadata": {},
   "cell_type": "code",
   "outputs": [],
   "execution_count": null,
   "source": "",
   "id": "d436c45593c626f0"
  },
  {
   "metadata": {},
   "cell_type": "code",
   "outputs": [],
   "execution_count": null,
   "source": "",
   "id": "d9ae78c8b7ce3517"
  },
  {
   "metadata": {},
   "cell_type": "code",
   "outputs": [],
   "execution_count": null,
   "source": "",
   "id": "898c87384cc52fae"
  },
  {
   "metadata": {},
   "cell_type": "code",
   "outputs": [],
   "execution_count": null,
   "source": "",
   "id": "90afac9e3d8c2804"
  },
  {
   "metadata": {},
   "cell_type": "code",
   "outputs": [],
   "execution_count": null,
   "source": "",
   "id": "b9723a3fd0e6487a"
  }
 ],
 "metadata": {
  "kernelspec": {
   "display_name": "Python 3",
   "language": "python",
   "name": "python3"
  },
  "language_info": {
   "codemirror_mode": {
    "name": "ipython",
    "version": 2
   },
   "file_extension": ".py",
   "mimetype": "text/x-python",
   "name": "python",
   "nbconvert_exporter": "python",
   "pygments_lexer": "ipython2",
   "version": "2.7.6"
  }
 },
 "nbformat": 4,
 "nbformat_minor": 5
}
