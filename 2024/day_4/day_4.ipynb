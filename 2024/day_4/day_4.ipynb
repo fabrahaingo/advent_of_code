{
 "cells": [
  {
   "metadata": {},
   "cell_type": "markdown",
   "source": "## First star",
   "id": "71f669e362ee00d0"
  },
  {
   "metadata": {
    "ExecuteTime": {
     "end_time": "2024-12-07T18:53:57.961006Z",
     "start_time": "2024-12-07T18:53:57.957733Z"
    }
   },
   "cell_type": "code",
   "source": [
    "import sys\n",
    "import re"
   ],
   "id": "initial_id",
   "outputs": [],
   "execution_count": 51
  },
  {
   "metadata": {
    "ExecuteTime": {
     "end_time": "2024-12-07T18:53:58.094783Z",
     "start_time": "2024-12-07T18:53:58.091224Z"
    }
   },
   "cell_type": "code",
   "source": "sys.path.append(\"../\")",
   "id": "4fea87bb3bd97a63",
   "outputs": [],
   "execution_count": 52
  },
  {
   "metadata": {
    "ExecuteTime": {
     "end_time": "2024-12-07T18:53:58.237510Z",
     "start_time": "2024-12-07T18:53:58.234495Z"
    }
   },
   "cell_type": "code",
   "source": "file_path = 'input_ag.txt'",
   "id": "d1edb1fac30300ca",
   "outputs": [],
   "execution_count": 53
  },
  {
   "metadata": {
    "ExecuteTime": {
     "end_time": "2024-12-07T18:53:58.352567Z",
     "start_time": "2024-12-07T18:53:58.348957Z"
    }
   },
   "cell_type": "code",
   "source": [
    "# Read file content\n",
    "characters_matrix = []\n",
    "with open(file_path, 'r') as file:\n",
    "      for line in file:\n",
    "        characters_matrix.append(line.strip('\\n'))"
   ],
   "id": "30b636e9d075838b",
   "outputs": [],
   "execution_count": 54
  },
  {
   "metadata": {
    "ExecuteTime": {
     "end_time": "2024-12-07T18:54:01.219288Z",
     "start_time": "2024-12-07T18:54:01.201112Z"
    }
   },
   "cell_type": "code",
   "source": [
    "def count_occurrences(characters_matrix, word):\n",
    "    rows = len(characters_matrix)\n",
    "    cols = len(characters_matrix[0])\n",
    "    word_len = len(word)\n",
    "    directions = [\n",
    "        (-1, 0),  # up\n",
    "        (1, 0),   # down\n",
    "        (0, -1),  # left\n",
    "        (0, 1),   # right\n",
    "        (-1, -1), # up-left diagonal\n",
    "        (-1, 1),  # up-right diagonal\n",
    "        (1, -1),  # down-left diagonal\n",
    "        (1, 1)    # down-right diagonal\n",
    "    ]\n",
    "    \n",
    "    count = 0\n",
    "    for row in range(rows):\n",
    "        for col in range(cols):\n",
    "            if characters_matrix[row][col] == word[0]:\n",
    "                for dir1, dir2 in directions:\n",
    "                    new_row, new_col = row, col\n",
    "                    found = True\n",
    "                    for i in range(word_len):\n",
    "                        current_row = new_row + dir1 * i\n",
    "                        current_col = new_col + dir2 * i\n",
    "                        if not (0 <= current_row < rows and 0 <= current_col < cols and characters_matrix[current_row][current_col] == word[i]):\n",
    "                            found = False\n",
    "                            break\n",
    "                    if found:\n",
    "                        count += 1\n",
    "    return count\n",
    "word = \"XMAS\"\n",
    "occurrences = count_occurrences(characters_matrix, word)\n",
    "print(\"Number of occurrences of 'XMAS':\", occurrences)"
   ],
   "id": "cc13170c5f729de7",
   "outputs": [
    {
     "name": "stdout",
     "output_type": "stream",
     "text": [
      "Number of occurrences of 'XMAS': 2599\n"
     ]
    }
   ],
   "execution_count": 55
  },
  {
   "metadata": {},
   "cell_type": "markdown",
   "source": "## Second star",
   "id": "e77a21fc7d1f5ce1"
  },
  {
   "metadata": {
    "ExecuteTime": {
     "end_time": "2024-12-07T19:52:25.069437Z",
     "start_time": "2024-12-07T19:52:25.057862Z"
    }
   },
   "cell_type": "code",
   "source": [
    "def count_xmas_patterns(characters_matrix):\n",
    "    rows = len(characters_matrix)\n",
    "    cols = len(characters_matrix[0])\n",
    "    \n",
    "    def check_diagonal(cells):\n",
    "        return set(cells) == {'A', 'M', 'S'} and cells[1] == 'A'\n",
    "    \n",
    "    count = 0\n",
    "    for row in range(1, rows-1):\n",
    "        for col in range(1, cols-1):\n",
    "            if characters_matrix[row][col] == 'A':\n",
    "                diag1 = [characters_matrix[row-1][col-1], characters_matrix[row][col], characters_matrix[row+1][col+1]]\n",
    "                diag2 = [characters_matrix[row-1][col+1], characters_matrix[row][col], characters_matrix[row+1][col-1]]\n",
    "                \n",
    "                if check_diagonal(diag1) and check_diagonal(diag2):\n",
    "                    count += 1\n",
    "    return count\n",
    "\n",
    "occurrences = count_xmas_patterns(characters_matrix)"
   ],
   "id": "a891b88a345e5b57",
   "outputs": [],
   "execution_count": 60
  },
  {
   "metadata": {
    "ExecuteTime": {
     "end_time": "2024-12-07T19:52:25.260803Z",
     "start_time": "2024-12-07T19:52:25.255576Z"
    }
   },
   "cell_type": "code",
   "source": "print(\"Number of occurrences of 'XMAS':\", occurrences)",
   "id": "933139ccf8ea91a",
   "outputs": [
    {
     "name": "stdout",
     "output_type": "stream",
     "text": [
      "Number of occurrences of 'XMAS': 1948\n"
     ]
    }
   ],
   "execution_count": 61
  }
 ],
 "metadata": {
  "kernelspec": {
   "display_name": "Python 3",
   "language": "python",
   "name": "python3"
  },
  "language_info": {
   "codemirror_mode": {
    "name": "ipython",
    "version": 2
   },
   "file_extension": ".py",
   "mimetype": "text/x-python",
   "name": "python",
   "nbconvert_exporter": "python",
   "pygments_lexer": "ipython2",
   "version": "2.7.6"
  }
 },
 "nbformat": 4,
 "nbformat_minor": 5
}
